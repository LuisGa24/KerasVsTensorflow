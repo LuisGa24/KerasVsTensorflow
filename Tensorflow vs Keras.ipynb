{
 "cells": [
  {
   "cell_type": "markdown",
   "source": [
    "# Tensorflow vs Keras\n",
    "La principal diferencia entre TensorFlow y Keras es que TensorFlow es una biblioteca de más bajo nivel, mientras que Keras es una biblioteca de más alto nivel. Esto significa que TensorFlow le brinda más control sobre la arquitectura subyacente de su modelo, mientras que Keras proporciona una interfaz más simplificada que es más fácil de usar.\n",
    "\n",
    "![TFvsKRS](Images/TFvsKRS.png)\n",
    "\n",
    "## Tensorflow\n",
    "La principal ventaja de usar TensorFlow es que le brinda más control sobre la arquitectura subyacente de su modelo. Esto puede ser útil si desea ajustar el rendimiento de su modelo o si desea utilizar un tipo específico de arquitectura.\n",
    "\n",
    "## Keras\n",
    "La principal ventaja de usar Keras es que es más fácil de usar que TensorFlow. Esto se debe a que Keras proporciona una interfaz más simplificada que abstrae parte de la complejidad de TensorFlow.\n",
    "\n",
    "## Uso de la API de Keras en versiones más recientes de TensorFlow\n",
    "\n",
    "En versiones más recientes de TensorFlow, como TensorFlow 2.x, se fomenta el uso de la API de Keras como interfaz principal para construir y entrenar modelos de aprendizaje profundo. Keras es una biblioteca de alto nivel que facilita la construcción de redes neuronales y abstrae muchos de los detalles de bajo nivel de TensorFlow.\n",
    "\n",
    "La API de Keras proporciona una sintaxis sencilla y modular para definir modelos de aprendizaje profundo. Permite crear modelos secuenciales, donde las capas se agregan de manera secuencial, o modelos más complejos con múltiples entradas y salidas."
   ],
   "metadata": {
    "collapsed": false
   }
  },
  {
   "cell_type": "code",
   "execution_count": null,
   "outputs": [],
   "source": [],
   "metadata": {
    "collapsed": false
   }
  }
 ],
 "metadata": {
  "kernelspec": {
   "display_name": "Python 3",
   "language": "python",
   "name": "python3"
  },
  "language_info": {
   "codemirror_mode": {
    "name": "ipython",
    "version": 2
   },
   "file_extension": ".py",
   "mimetype": "text/x-python",
   "name": "python",
   "nbconvert_exporter": "python",
   "pygments_lexer": "ipython2",
   "version": "2.7.6"
  }
 },
 "nbformat": 4,
 "nbformat_minor": 0
}
